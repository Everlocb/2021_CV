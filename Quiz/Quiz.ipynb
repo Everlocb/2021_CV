{
 "cells": [
  {
   "cell_type": "code",
   "execution_count": null,
   "metadata": {},
   "outputs": [],
   "source": [
    "First task:"
   ]
  },
  {
   "cell_type": "code",
   "execution_count": null,
   "metadata": {},
   "outputs": [],
   "source": [
    "A = [1, 32, 2, 147, 487, 647]\n",
    "\n",
    "def solution(N):\n",
    "    stack = f'{N:b}'\n",
    "    splitted = stack.split('1')\n",
    "    m = max(splitted, key=len)\n",
    "    return len(m)\n",
    "\n",
    "for el in A:\n",
    "    print(solution(el))"
   ]
  },
  {
   "cell_type": "code",
   "execution_count": null,
   "metadata": {},
   "outputs": [],
   "source": [
    "Third task:"
   ]
  },
  {
   "cell_type": "code",
   "execution_count": null,
   "metadata": {},
   "outputs": [],
   "source": [
    "A = list(range(1000000000))\n",
    "\n",
    "def solution(N):\n",
    "    vals = set()\n",
    "    for i in N:\n",
    "        if i not in vals:\n",
    "            vals[i] = 0\n",
    "        elif i not in vals:\n",
    "            vals[i] +=1\n",
    "        elif i in vals:\n",
    "            vals[i] -=1\n",
    "    return vals.pop()\n",
    "\n",
    "\n",
    "for el in A:\n",
    "    print(solution(A))"
   ]
  },
  {
   "cell_type": "code",
   "execution_count": null,
   "metadata": {},
   "outputs": [],
   "source": []
  }
 ],
 "metadata": {
  "kernelspec": {
   "display_name": "Python 3",
   "language": "python",
   "name": "python3"
  },
  "language_info": {
   "codemirror_mode": {
    "name": "ipython",
    "version": 3
   },
   "file_extension": ".py",
   "mimetype": "text/x-python",
   "name": "python",
   "nbconvert_exporter": "python",
   "pygments_lexer": "ipython3",
   "version": "3.7.4"
  }
 },
 "nbformat": 4,
 "nbformat_minor": 4
}
